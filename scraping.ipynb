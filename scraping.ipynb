{
 "cells": [
  {
   "cell_type": "code",
   "execution_count": 2,
   "metadata": {},
   "outputs": [],
   "source": [
    "import os\n",
    "import selenium\n",
    "from selenium import webdriver\n",
    "import io\n",
    "from selenium import webdriver\n",
    "from selenium.webdriver.common.keys import Keys\n",
    "from selenium.webdriver.common.by import By"
   ]
  },
  {
   "cell_type": "code",
   "execution_count": 3,
   "metadata": {},
   "outputs": [],
   "source": [
    "browser = webdriver.Edge()\n",
    "browser.get('https://evgcatalog.kcls.org/eg/opac/ezproxy/login?qurl=https://ar.morningstar.com%2fmirc%2fhome.aspx')"
   ]
  },
  {
   "cell_type": "code",
   "execution_count": 4,
   "metadata": {},
   "outputs": [],
   "source": [
    "barcode_input = browser.find_element(By.ID, 'barcode-input')\n",
    "password_input = browser.find_element(By.ID, 'password-input')"
   ]
  },
  {
   "cell_type": "code",
   "execution_count": 5,
   "metadata": {},
   "outputs": [],
   "source": [
    "barcode_input.send_keys('9340044928')\n",
    "password_input.send_keys('0035')"
   ]
  },
  {
   "cell_type": "code",
   "execution_count": 6,
   "metadata": {},
   "outputs": [],
   "source": [
    "password_input.submit()"
   ]
  },
  {
   "cell_type": "code",
   "execution_count": 7,
   "metadata": {},
   "outputs": [],
   "source": [
    "search_bar = browser.find_element(By.XPATH, \"//input[@class='mdc-search-field__input mds-search-field__input__rxp']\")"
   ]
  },
  {
   "cell_type": "code",
   "execution_count": 8,
   "metadata": {},
   "outputs": [],
   "source": [
    "ticker = 'MSFT'\n",
    "search_bar.send_keys(ticker)"
   ]
  },
  {
   "cell_type": "code",
   "execution_count": 9,
   "metadata": {},
   "outputs": [],
   "source": [
    "search_bar.submit()"
   ]
  },
  {
   "cell_type": "code",
   "execution_count": 10,
   "metadata": {},
   "outputs": [],
   "source": [
    "ticker_button = browser.find_element(By.XPATH, \"//a[@class='mdc-security-module__name mdc-link__rxp mdc-link--no-underline__rxp']\")\n",
    "ticker_button.click()"
   ]
  },
  {
   "cell_type": "code",
   "execution_count": 11,
   "metadata": {},
   "outputs": [
    {
     "name": "stdout",
     "output_type": "stream",
     "text": [
      "374.58,\n",
      "370.00,\n",
      "Medium,\n",
      "Significant,\n",
      "Data Privacy & Security,\n",
      "Large Growth,\n",
      "Technology,\n",
      "Software - Infrastructure,\n",
      "372.71 – 375.18,\n",
      "219.35 – 384.30,\n",
      "2.7840 Tril,\n",
      "17.1 Mil / 26.1 Mil,\n",
      "12.81,\n",
      "12.61,\n",
      "36.26,\n",
      "0.80%,\n",
      ",\n",
      ",\n"
     ]
    }
   ],
   "source": [
    "for element in browser.find_elements(By.XPATH, \"//p[@class='sal-dp-value']\"):\n",
    "  print(element.text + \",\")"
   ]
  },
  {
   "cell_type": "code",
   "execution_count": 12,
   "metadata": {},
   "outputs": [
    {
     "name": "stdout",
     "output_type": "stream",
     "text": [
      "> 499.50,\n",
      "< 259.00,\n",
      "Wide,\n",
      "Exemplary,\n"
     ]
    }
   ],
   "source": [
    "for element in browser.find_elements(By.XPATH, \"//span[@class='sal-dp-value']\"):\n",
    "  print(element.text + \",\")"
   ]
  },
  {
   "cell_type": "code",
   "execution_count": null,
   "metadata": {},
   "outputs": [],
   "source": []
  }
 ],
 "metadata": {
  "kernelspec": {
   "display_name": ".venv",
   "language": "python",
   "name": "python3"
  },
  "language_info": {
   "codemirror_mode": {
    "name": "ipython",
    "version": 3
   },
   "file_extension": ".py",
   "mimetype": "text/x-python",
   "name": "python",
   "nbconvert_exporter": "python",
   "pygments_lexer": "ipython3",
   "version": "3.12.1"
  }
 },
 "nbformat": 4,
 "nbformat_minor": 2
}
