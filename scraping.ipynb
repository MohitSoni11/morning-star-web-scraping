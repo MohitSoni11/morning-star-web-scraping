{
 "cells": [
  {
   "cell_type": "code",
   "execution_count": 143,
   "metadata": {},
   "outputs": [],
   "source": [
    "import os\n",
    "import selenium\n",
    "from selenium import webdriver\n",
    "import io\n",
    "from selenium import webdriver\n",
    "from selenium.webdriver.common.keys import Keys\n",
    "from selenium.webdriver.common.by import By"
   ]
  },
  {
   "cell_type": "code",
   "execution_count": 144,
   "metadata": {},
   "outputs": [],
   "source": [
    "browser = webdriver.Edge()\n",
    "browser.get('https://evgcatalog.kcls.org/eg/opac/ezproxy/login?qurl=https://ar.morningstar.com%2fmirc%2fhome.aspx')"
   ]
  },
  {
   "cell_type": "code",
   "execution_count": 145,
   "metadata": {},
   "outputs": [],
   "source": [
    "barcode_input = browser.find_element(By.ID, 'barcode-input')\n",
    "password_input = browser.find_element(By.ID, 'password-input')"
   ]
  },
  {
   "cell_type": "code",
   "execution_count": 146,
   "metadata": {},
   "outputs": [],
   "source": [
    "barcode_input.send_keys('9340044928')\n",
    "password_input.send_keys('0035')"
   ]
  },
  {
   "cell_type": "code",
   "execution_count": 147,
   "metadata": {},
   "outputs": [],
   "source": [
    "password_input.submit()"
   ]
  },
  {
   "cell_type": "code",
   "execution_count": 152,
   "metadata": {},
   "outputs": [],
   "source": [
    "search_bar = browser.find_element(By.XPATH, \"//input[@class='mdc-search-field__input mds-search-field__input__rxp']\")"
   ]
  },
  {
   "cell_type": "code",
   "execution_count": 153,
   "metadata": {},
   "outputs": [],
   "source": [
    "ticker = 'MSFT'\n",
    "search_bar.send_keys(ticker)"
   ]
  },
  {
   "cell_type": "code",
   "execution_count": 154,
   "metadata": {},
   "outputs": [],
   "source": [
    "search_bar.submit()"
   ]
  },
  {
   "cell_type": "code",
   "execution_count": 155,
   "metadata": {},
   "outputs": [],
   "source": [
    "ticker_button = browser.find_element(By.XPATH, \"//a[@class='mdc-security-module__name mdc-link__rxp mdc-link--no-underline__rxp']\")\n",
    "ticker_button.click()"
   ]
  },
  {
   "cell_type": "code",
   "execution_count": 63,
   "metadata": {},
   "outputs": [
    {
     "name": "stdout",
     "output_type": "stream",
     "text": [
      "374.58,\n",
      "370.00,\n",
      "Medium,\n",
      "Significant,\n",
      "Data Privacy & Security,\n",
      "Large Growth,\n",
      "Technology,\n",
      "Software - Infrastructure,\n",
      "372.71 – 375.18,\n",
      "219.35 – 384.30,\n",
      "2.7840 Tril,\n",
      "17.1 Mil / 26.1 Mil,\n",
      "12.81,\n",
      "12.61,\n",
      "36.26,\n",
      "0.80%,\n",
      "0.74%,\n",
      ",\n"
     ]
    }
   ],
   "source": [
    "for element in browser.find_elements(By.XPATH, \"//p[@class='sal-dp-value']\"):\n",
    "  print(element.text + \",\")"
   ]
  },
  {
   "cell_type": "code",
   "execution_count": 64,
   "metadata": {},
   "outputs": [
    {
     "name": "stdout",
     "output_type": "stream",
     "text": [
      "> 499.50,\n",
      "< 259.00,\n",
      "Wide,\n",
      "Exemplary,\n"
     ]
    }
   ],
   "source": [
    "for element in browser.find_elements(By.XPATH, \"//span[@class='sal-dp-value']\"):\n",
    "  print(element.text + \",\")"
   ]
  },
  {
   "cell_type": "code",
   "execution_count": 65,
   "metadata": {},
   "outputs": [
    {
     "data": {
      "text/plain": [
       "'374.58'"
      ]
     },
     "execution_count": 65,
     "metadata": {},
     "output_type": "execute_result"
    }
   ],
   "source": [
    "browser.find_element(By.ID, 'lastPrice').text"
   ]
  },
  {
   "cell_type": "code",
   "execution_count": 156,
   "metadata": {},
   "outputs": [
    {
     "data": {
      "text/plain": [
       "'Microsoft Corp\\nMSFT\\nMorningstar Fundamentals\\nLast Price\\n374.58\\nFair Value\\n370.00\\nUncertainty\\nMedium\\n1-Star Price\\n> 499.50\\n5-Star Price\\n< 259.00\\nEconomic Moat\\nWide\\nCapital Allocation\\nExemplary\\nSustainability\\nESG Risk Rating Assessment\\n4/5\\nControversy Level\\nSignificant\\nTop Material ESG Issue (Overall)\\nData Privacy & Security\\nInvestment Style\\nLarge Growth\\nSector\\nTechnology\\nIndustry\\nSoftware - Infrastructure\\nDay Range\\n372.71 – 375.18\\nYear Range\\n219.35 – 384.30\\nMarket Cap\\n2.7840 Tril\\nVolume / Avg\\n17.1 Mil / 26.1 Mil\\nPrice / Sales\\n12.81\\nPrice / Book\\n12.61\\nPrice / Earnings\\n36.26\\nForward Div Yield\\n0.80%\\nTrailing Div Yield\\n0.74%'"
      ]
     },
     "execution_count": 156,
     "metadata": {},
     "output_type": "execute_result"
    }
   ],
   "source": [
    "section = browser.find_element(By.ID, 'sal-components-eqsv-overview')\n",
    "section.text"
   ]
  },
  {
   "cell_type": "code",
   "execution_count": 157,
   "metadata": {},
   "outputs": [
    {
     "data": {
      "text/plain": [
       "'Last Price\\n374.58\\nFair Value\\n370.00\\nUncertainty\\nMedium\\n1-Star Price\\n> 499.50\\n5-Star Price\\n< 259.00\\nEconomic Moat\\nWide\\nCapital Allocation\\nExemplary'"
      ]
     },
     "execution_count": 157,
     "metadata": {},
     "output_type": "execute_result"
    }
   ],
   "source": [
    "fundamentalSection = section.find_element(By.CSS_SELECTOR, 'ul.fundamentals')\n",
    "fundamentalSection.text"
   ]
  },
  {
   "cell_type": "code",
   "execution_count": 158,
   "metadata": {},
   "outputs": [
    {
     "name": "stdout",
     "output_type": "stream",
     "text": [
      "Last Price\n",
      "374.58+\n",
      "Fair Value\n",
      "370.00+\n",
      "Uncertainty\n",
      "Medium+\n",
      "1-Star Price\n",
      "> 499.50+\n",
      "5-Star Price\n",
      "< 259.00+\n",
      "Economic Moat\n",
      "Wide+\n",
      "Capital Allocation\n",
      "Exemplary+\n"
     ]
    }
   ],
   "source": [
    "for element in fundamentalSection.find_elements(By.CSS_SELECTOR, 'li'):\n",
    "  print(element.text + '+')"
   ]
  },
  {
   "cell_type": "code",
   "execution_count": 159,
   "metadata": {},
   "outputs": [
    {
     "name": "stdout",
     "output_type": "stream",
     "text": [
      "374.58\n",
      "370.00\n",
      "Medium\n",
      "\n",
      "> 499.50\n",
      "< 259.00\n",
      "Wide\n",
      "Exemplary\n"
     ]
    }
   ],
   "source": [
    "for element in fundamentalSection.find_elements(By.CSS_SELECTOR, 'p.sal-dp-value'):\n",
    "  print(element.text)\n",
    "  \n",
    "print()  \n",
    "\n",
    "for element in fundamentalSection.find_elements(By.CSS_SELECTOR, 'span.sal-dp-value'):\n",
    "  print(element.text)"
   ]
  },
  {
   "cell_type": "code",
   "execution_count": 165,
   "metadata": {},
   "outputs": [
    {
     "name": "stdout",
     "output_type": "stream",
     "text": [
      "374.58\n",
      "370.00\n",
      "Medium\n",
      "> 499.50\n",
      "< 259.00\n",
      "Wide\n",
      "Exemplary\n",
      "Significant\n",
      "Data Privacy & Security\n",
      "Large Growth\n",
      "Technology\n",
      "Software - Infrastructure\n",
      "372.71 – 375.18\n",
      "219.35 – 384.30\n",
      "2.7840 Tril\n",
      "17.1 Mil / 26.1 Mil\n",
      "12.81\n",
      "12.61\n",
      "36.26\n",
      "0.80%\n",
      "\n"
     ]
    }
   ],
   "source": [
    "for i in range(3):\n",
    "  element = section.find_elements(By.CSS_SELECTOR, 'ul')[i]\n",
    "  \n",
    "  for element2 in element.find_elements(By.CSS_SELECTOR, 'p.sal-dp-value'):\n",
    "    print(element2.text)\n",
    "    \n",
    "  for element2 in element.find_elements(By.CSS_SELECTOR, 'span.sal-dp-value'):\n",
    "    print(element2.text)"
   ]
  },
  {
   "cell_type": "code",
   "execution_count": 161,
   "metadata": {},
   "outputs": [
    {
     "data": {
      "text/plain": [
       "'Last Price\\n374.58\\nFair Value\\n370.00\\nUncertainty\\nMedium\\n1-Star Price\\n> 499.50\\n5-Star Price\\n< 259.00\\nEconomic Moat\\nWide\\nCapital Allocation\\nExemplary'"
      ]
     },
     "execution_count": 161,
     "metadata": {},
     "output_type": "execute_result"
    }
   ],
   "source": [
    "section.find_elements(By.CSS_SELECTOR, 'ul')[0].text"
   ]
  },
  {
   "cell_type": "code",
   "execution_count": 162,
   "metadata": {},
   "outputs": [
    {
     "data": {
      "text/plain": [
       "'0.74%'"
      ]
     },
     "execution_count": 162,
     "metadata": {},
     "output_type": "execute_result"
    }
   ],
   "source": [
    "section.find_elements(By.CSS_SELECTOR, 'div.sal-dp-pair')[-1].find_elements(By.CSS_SELECTOR, 'p')[1].text"
   ]
  },
  {
   "cell_type": "code",
   "execution_count": 163,
   "metadata": {},
   "outputs": [
    {
     "data": {
      "text/plain": [
       "'0.74%'"
      ]
     },
     "execution_count": 163,
     "metadata": {},
     "output_type": "execute_result"
    }
   ],
   "source": [
    "section.find_elements(By.CSS_SELECTOR, 'div.sal-dp-pair > p')[-1].text"
   ]
  },
  {
   "cell_type": "code",
   "execution_count": 170,
   "metadata": {},
   "outputs": [
    {
     "name": "stdout",
     "output_type": "stream",
     "text": [
      "Last Price\n",
      "Fair Value\n",
      "Uncertainty\n",
      "1-Star Price\n",
      "5-Star Price\n",
      "Economic Moat\n",
      "Capital Allocation\n",
      "\n",
      "ESG Risk Rating Assessment\n",
      "Controversy Level\n",
      "Top Material ESG Issue (Overall)\n",
      "\n",
      "Investment Style\n",
      "Sector\n",
      "Industry\n",
      "Day Range\n",
      "Year Range\n",
      "Market Cap\n",
      "Volume / Avg\n",
      "Price / Sales\n",
      "Price / Book\n",
      "Price / Earnings\n",
      "Forward Div Yield\n",
      "\n",
      "\n",
      "Investment Style\n",
      "Sector\n",
      "Industry\n",
      "\n",
      "Day Range\n",
      "Year Range\n",
      "Market Cap\n",
      "\n",
      "Volume / Avg\n",
      "Price / Sales\n",
      "Price / Book\n",
      "\n",
      "Price / Earnings\n",
      "Forward Div Yield\n",
      "\n",
      "\n"
     ]
    }
   ],
   "source": [
    "for element in section.find_elements(By.CSS_SELECTOR, 'ul'):\n",
    "  for element2 in element.find_elements(By.CSS_SELECTOR, 'p.sal-dp-name'):\n",
    "    print(element2.text)\n",
    "  \n",
    "  print()"
   ]
  },
  {
   "cell_type": "code",
   "execution_count": null,
   "metadata": {},
   "outputs": [],
   "source": []
  }
 ],
 "metadata": {
  "kernelspec": {
   "display_name": ".venv",
   "language": "python",
   "name": "python3"
  },
  "language_info": {
   "codemirror_mode": {
    "name": "ipython",
    "version": 3
   },
   "file_extension": ".py",
   "mimetype": "text/x-python",
   "name": "python",
   "nbconvert_exporter": "python",
   "pygments_lexer": "ipython3",
   "version": "3.12.1"
  }
 },
 "nbformat": 4,
 "nbformat_minor": 2
}
